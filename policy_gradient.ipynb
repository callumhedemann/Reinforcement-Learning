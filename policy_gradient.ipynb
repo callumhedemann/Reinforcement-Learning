{
  "nbformat": 4,
  "nbformat_minor": 0,
  "metadata": {
    "colab": {
      "name": "policy_gradient.ipynb",
      "provenance": [],
      "collapsed_sections": [],
      "authorship_tag": "ABX9TyN/I8V3t5Hh/ygjpKJoYBHA"
    },
    "kernelspec": {
      "name": "python3",
      "display_name": "Python 3"
    }
  },
  "cells": [
    {
      "cell_type": "markdown",
      "metadata": {
        "id": "28NN_MIs9JWp",
        "colab_type": "text"
      },
      "source": [
        "# Policy Gradient Reinforcement Learning Algorithms"
      ]
    },
    {
      "cell_type": "markdown",
      "metadata": {
        "id": "YNxZdfx2_bGy",
        "colab_type": "text"
      },
      "source": [
        "Methods that learn a parameterised policy instead of action-value functions. Learning is done through gradient ascent by maximising some performance measure J(theta).\n",
        "\n",
        "Use the policy gradient theorem to separate the effect of the policy on the actions and rewards from the unknown effect of policy changes on the state distribution (induced by the environment dynamics, which is unknown). This theorem gives a formula for grad J(theta) which is proportional to a term that does not involve the derivative of the state distribution:\n",
        "\n",
        "grad J(theta) i.p.t. sigma mew(s) sigma q(s,a) grad pi(a|s,theta)\n"
      ]
    },
    {
      "cell_type": "markdown",
      "metadata": {
        "id": "IY9WnEWrrQbo",
        "colab_type": "text"
      },
      "source": [
        "### Discrete action space policies:\n",
        "<br>\n",
        "Use parameterised numerical preferences h(s,a,theta) for each state-action pair and softmax to select actions:\n",
        "<br>\n",
        "pi(a|s,theta) = exp(h(s,a,theta)) / sigma_b exp(e(s,b,theta))\n",
        "<br>\n",
        "(Note that b is used to sum over all actions.)\n",
        "<br><br>\n",
        "The simplest case is when h is a linear function:\n",
        "<br>\n",
        "h(s,a,theta) = theta^T x(s,a)\n",
        "<br>\n",
        "where x(s,a) is a feature vector."
      ]
    },
    {
      "cell_type": "markdown",
      "metadata": {
        "id": "TTQuCS8ahsIu",
        "colab_type": "text"
      },
      "source": [
        "### REINFORCE: Frozen Lake with softmax linear action preferences\n",
        "Gradient Ascent update: <br>\n",
        "Include 1 / pi(a|St, theta) to sample under the expectaion of all possible action values\n",
        "\n",
        "grad J(theta) = Expectaion_pi [ Gt grad pi(At, St, theta) / pi(At, St, theta) ]\n",
        "<br><br>\n",
        "gives the gradient ascent update:\n",
        "<br>\n",
        "theta_t+1 = theta_t + alpha Gt grad pi(At, St, theta) / pi(At, St, theta)\n",
        "<br><br>\n",
        "... but use the \"eligibilty vector\" (from the identity grad ln x = grad x / x) and include gamma for discounting:\n",
        "<br>\n",
        "theta_t+1 = theta_t + alpha gamma^t Gt grad ln pi(At|St, theta)"
      ]
    },
    {
      "cell_type": "code",
      "metadata": {
        "id": "Uvpexpph9EZq",
        "colab_type": "code",
        "outputId": "33f6c54e-23e5-4f61-a704-9564d41aca10",
        "colab": {
          "base_uri": "https://localhost:8080/",
          "height": 467
        }
      },
      "source": [
        "import gym\n",
        "import time, random, math\n",
        "import numpy as np\n",
        "import pandas as pd\n",
        "from IPython import display\n",
        "import matplotlib.pyplot as plt\n",
        "import torch\n",
        "import torch.nn as nn\n",
        "import torch.nn.functional as F\n",
        "from scipy.special import softmax\n",
        "%matplotlib inline\n",
        "env = gym.make('FrozenLake8x8-v0', is_slippery=False)\n",
        "\n",
        "#theta = np.zeros((30,env.action_space.n))\n",
        "#q_values = np.zeros((env.observation_space.n, env.action_space.n))\n",
        "#alpha_max, alpha_min, gamma, epsilon_max, epsilon_min = 1.0, 0.1, 0.99, 0.9, 0.1\n",
        "gamma = 0.99\n",
        "n_episodes = 1000\n",
        "returns = []\n",
        "avg_returns = [0]\n",
        "avg_freq = 100\n",
        "\n",
        "class ANN(nn.Module):\n",
        "    def __init__(self, state_dims=env.observation_space.n, hs=128):\n",
        "        super(ANN, self).__init__()        \n",
        "        self.fc1 = nn.Linear(state_dims, hs)\n",
        "        #self.fc2 = nn.Linear(hs, hs)\n",
        "        self.out = nn.Linear(hs, env.action_space.n) # given a state, outputs an action preference for each action\n",
        "\n",
        "    def forward(self, x):\n",
        "        x = F.relu(self.fc1(x))\n",
        "        #x = F.relu(self.fc2(x))\n",
        "        return self.out(x)\n",
        "\n",
        "theta = ANN()\n",
        "optimiser = torch.optim.Adam(theta.parameters(), lr=0.001)#, weight_decay=0.001)\n",
        "\n",
        "def features(state):\n",
        "    oh = np.zeros(env.observation_space.n)\n",
        "    oh[state] = 1\n",
        "    return torch.Tensor(oh)\n",
        "\n",
        "for n in range(n_episodes):\n",
        "    env.reset()\n",
        "    state,g = 0,0\n",
        "    prefs = []\n",
        "    rewards = []      \n",
        "    if n%avg_freq==0:\n",
        "        print('episode', n, 'avg_returns', avg_returns[-1])\n",
        "    while True: # generate an episode\n",
        "        # select an action according to policy pi\n",
        "        #with torch.no_grad():\n",
        "        action_preferences = theta(features(state))\n",
        "        #action = np.random.choice(env.action_space.n, p=softmax(action_preferences)) # probabilistic action selection\n",
        "        action = torch.argmax(action_preferences).item()        \n",
        "        observation, reward, done, _ = env.step(action)\n",
        "        prefs.append(action_preferences)\n",
        "        rewards.append(reward)\n",
        "        g += reward\n",
        "        if done:             \n",
        "            # learn pi    \n",
        "            grads = []\n",
        "            for t, p in enumerate(prefs):\n",
        "                gt, pw = 0,0\n",
        "                for r in rewards[t:]:\n",
        "                    gt += gamma**pw * r\n",
        "                    pw += 1\n",
        "                grads.append(-torch.log(p)*gt)\n",
        "            optimiser.zero_grad()\n",
        "            J = torch.stack(grads).sum()\n",
        "            J.backward()\n",
        "            optimiser.step()\n",
        "            # diagnostic\n",
        "            returns.append(g)\n",
        "            if n%avg_freq==(avg_freq-1):\n",
        "                avg_returns.append(np.mean(returns[-avg_freq:]))    \n",
        "            break\n",
        "        state = observation                \n",
        "\n",
        "pd.Series(returns).plot()"
      ],
      "execution_count": 0,
      "outputs": [
        {
          "output_type": "stream",
          "text": [
            "episode 0 avg_returns 0\n",
            "episode 100 avg_returns 0.0\n",
            "episode 200 avg_returns 0.0\n",
            "episode 300 avg_returns 0.0\n",
            "episode 400 avg_returns 0.0\n",
            "episode 500 avg_returns 0.0\n",
            "episode 600 avg_returns 0.0\n",
            "episode 700 avg_returns 0.0\n",
            "episode 800 avg_returns 0.0\n",
            "episode 900 avg_returns 0.0\n"
          ],
          "name": "stdout"
        },
        {
          "output_type": "execute_result",
          "data": {
            "text/plain": [
              "<matplotlib.axes._subplots.AxesSubplot at 0x7fdf4251a3c8>"
            ]
          },
          "metadata": {
            "tags": []
          },
          "execution_count": 18
        },
        {
          "output_type": "display_data",
          "data": {
            "image/png": "[encoded data removed]",
            "text/plain": [
              "<Figure size 432x288 with 1 Axes>"
            ]
          },
          "metadata": {
            "tags": []
          }
        }
      ]
    },
    {
      "cell_type": "code",
      "metadata": {
        "id": "iPZK6dNaWZfC",
        "colab_type": "code",
        "outputId": "3cf33cc9-9e99-4ba2-bf54-d279bf82ab7c",
        "colab": {
          "base_uri": "https://localhost:8080/",
          "height": 669
        }
      },
      "source": [
        "import gym\n",
        "import time, random, math\n",
        "import numpy as np\n",
        "import pandas as pd\n",
        "from IPython import display\n",
        "import matplotlib.pyplot as plt\n",
        "import torch\n",
        "import torch.nn as nn\n",
        "import torch.nn.functional as F\n",
        "#from scipy.special import softmax\n",
        "\n",
        "env = gym.make('CartPole-v1')\n",
        "\n",
        "gamma = 0.99\n",
        "n_episodes = 2000\n",
        "returns = []\n",
        "avg_returns = [0]\n",
        "avg_freq = 100\n",
        "\n",
        "class ANN(nn.Module):\n",
        "    def __init__(self, state_dims=env.observation_space.shape[0], hs=512):\n",
        "        super(ANN, self).__init__()        \n",
        "        self.fc1 = nn.Linear(state_dims, hs)\n",
        "        self.fc2 = nn.Linear(hs, hs)\n",
        "        self.out = nn.Linear(hs, env.action_space.n) # given a state, outputs an action preference for each action\n",
        "\n",
        "    def forward(self, x):\n",
        "        x = F.relu(self.fc1(x))\n",
        "        x = F.relu(self.fc2(x))\n",
        "        #return F.softmax(self.out(x))\n",
        "        return self.out(x)\n",
        "\n",
        "theta = ANN()\n",
        "optimiser = torch.optim.Adam(theta.parameters(), lr=0.001)#, weight_decay=0.001)\n",
        "\n",
        "def features(state):    \n",
        "    return torch.Tensor(state)\n",
        "\n",
        "for n in range(n_episodes):\n",
        "    state = env.reset()\n",
        "    g = 0\n",
        "    prefs = []\n",
        "    rewards = []      \n",
        "    if n%avg_freq==0:\n",
        "        print('episode', n, 'avg_returns', avg_returns[-1])\n",
        "    while True: # generate an episode\n",
        "        # select an action according to policy pi\n",
        "        #with torch.no_grad():\n",
        "        action_preferences = theta(features(state))\n",
        "        action = np.random.choice(env.action_space.n, p=F.softmax(action_preferences.detach()).numpy()) # probabilistic action selection\n",
        "        #action = torch.argmax(action_preferences).item()        \n",
        "        observation, reward, done, _ = env.step(action)\n",
        "        prefs.append(action_preferences)\n",
        "        rewards.append(reward)\n",
        "        g += reward\n",
        "        if done:             \n",
        "            # learn pi    \n",
        "            grads = []\n",
        "            for t, p in enumerate(prefs):\n",
        "                gt, pw = 0,0\n",
        "                for r in rewards[t:]:\n",
        "                    gt += gamma**pw * r\n",
        "                    pw += 1\n",
        "                grads.append(gt*torch.log(p))\n",
        "            optimiser.zero_grad()\n",
        "            J = torch.stack(grads).sum()\n",
        "            J.backward()\n",
        "            optimiser.step() # no loss function..!\n",
        "            # diagnostic\n",
        "            returns.append(g)\n",
        "            if n%avg_freq==(avg_freq-1):\n",
        "                avg_returns.append(np.mean(returns[-avg_freq:]))    \n",
        "            break\n",
        "        state = observation                \n",
        "\n",
        "pd.Series(returns).plot()"
      ],
      "execution_count": 5,
      "outputs": [
        {
          "output_type": "stream",
          "text": [
            "episode 0 avg_returns 0\n"
          ],
          "name": "stdout"
        },
        {
          "output_type": "stream",
          "text": [
            "/usr/local/lib/python3.6/dist-packages/ipykernel_launcher.py:50: UserWarning: Implicit dimension choice for softmax has been deprecated. Change the call to include dim=X as an argument.\n"
          ],
          "name": "stderr"
        },
        {
          "output_type": "stream",
          "text": [
            "episode 100 avg_returns 19.79\n",
            "episode 200 avg_returns 18.55\n",
            "episode 300 avg_returns 17.01\n",
            "episode 400 avg_returns 14.71\n",
            "episode 500 avg_returns 9.7\n",
            "episode 600 avg_returns 9.95\n",
            "episode 700 avg_returns 9.79\n",
            "episode 800 avg_returns 9.47\n",
            "episode 900 avg_returns 9.62\n",
            "episode 1000 avg_returns 9.97\n",
            "episode 1100 avg_returns 10.52\n",
            "episode 1200 avg_returns 10.74\n",
            "episode 1300 avg_returns 15.77\n",
            "episode 1400 avg_returns 14.5\n",
            "episode 1500 avg_returns 15.0\n",
            "episode 1600 avg_returns 13.43\n",
            "episode 1700 avg_returns 14.72\n",
            "episode 1800 avg_returns 21.73\n",
            "episode 1900 avg_returns 14.59\n"
          ],
          "name": "stdout"
        },
        {
          "output_type": "execute_result",
          "data": {
            "text/plain": [
              "<matplotlib.axes._subplots.AxesSubplot at 0x7fb356f3aac8>"
            ]
          },
          "metadata": {
            "tags": []
          },
          "execution_count": 5
        },
        {
          "output_type": "display_data",
          "data": {
            "image/png": "[encoded data removed]",
            "text/plain": [
              "<Figure size 432x288 with 1 Axes>"
            ]
          },
          "metadata": {
            "tags": []
          }
        }
      ]
    },
    {
      "cell_type": "code",
      "metadata": {
        "id": "n7B067kL_jiy",
        "colab_type": "code",
        "colab": {}
      },
      "source": [
        ""
      ],
      "execution_count": 0,
      "outputs": []
    }
  ]
}