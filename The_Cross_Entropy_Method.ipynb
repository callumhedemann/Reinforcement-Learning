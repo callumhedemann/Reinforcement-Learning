{
  "nbformat": 4,
  "nbformat_minor": 0,
  "metadata": {
    "colab": {
      "name": "The Cross-Entropy Method.ipynb",
      "provenance": [],
      "collapsed_sections": [],
      "authorship_tag": "ABX9TyMC6RZJDEyEyl+vpSOKS8Y6",
      "include_colab_link": true
    },
    "kernelspec": {
      "name": "python3",
      "display_name": "Python 3"
    }
  },
  "cells": [
    {
      "cell_type": "markdown",
      "metadata": {
        "id": "view-in-github",
        "colab_type": "text"
      },
      "source": [
        "<a href=\"https://colab.research.google.com/github/callumhedemann/Reinforcement-Learning/blob/master/The_Cross_Entropy_Method.ipynb\" target=\"_parent\"><img src=\"https://colab.research.google.com/assets/colab-badge.svg\" alt=\"Open In Colab\"/></a>"
      ]
    },
    {
      "cell_type": "markdown",
      "metadata": {
        "id": "rHS-oe_UDh_-",
        "colab_type": "text"
      },
      "source": [
        "## Cross Entropy Method - CartPole "
      ]
    },
    {
      "cell_type": "code",
      "metadata": {
        "id": "IksaR3NmDTQf",
        "colab_type": "code",
        "colab": {
          "base_uri": "https://localhost:8080/",
          "height": 1000
        },
        "outputId": "ba60525d-af88-4ddf-fc7b-5ef0e42957a0"
      },
      "source": [
        "import gym\n",
        "import time, random, math\n",
        "import numpy as np\n",
        "import pandas as pd\n",
        "from IPython import display\n",
        "import matplotlib.pyplot as plt\n",
        "import torch\n",
        "import torch.nn as nn\n",
        "import torch.nn.functional as F\n",
        "#from scipy.special import softmax\n",
        "\n",
        "env = gym.make('CartPole-v1')\n",
        "\n",
        "batch_percentile = 75\n",
        "#gamma = 0.99\n",
        "n_epochs = 100\n",
        "batch_size = 20\n",
        "returns, losses = [], []\n",
        "avg_returns = [0]\n",
        "\n",
        "class ANN(nn.Module):\n",
        "    def __init__(self, state_dims=env.observation_space.shape[0], hs=256):\n",
        "        super(ANN, self).__init__()        \n",
        "        self.fc1 = nn.Linear(state_dims, hs)\n",
        "        self.fc2 = nn.Linear(hs, hs)\n",
        "        self.out = nn.Linear(hs, env.action_space.n) # given a state, outputs an action preference for each action\n",
        "\n",
        "    def forward(self, x):\n",
        "        x = F.relu(self.fc1(x))\n",
        "        x = F.relu(self.fc2(x))\n",
        "        #return F.softmax(self.out(x))\n",
        "        return self.out(x)\n",
        "\n",
        "Net = ANN()\n",
        "optimiser = torch.optim.Adam(Net.parameters(), lr=0.001)#, weight_decay=0.001)\n",
        "\n",
        "for e in range(n_epochs):\n",
        "    batch_returns, batch_states, batch_actions = [], [], []\n",
        "    with torch.no_grad():\n",
        "        for n in range(batch_size):\n",
        "            state = env.reset()\n",
        "            g = 0\n",
        "            states, actions = [], []\n",
        "            while True: # generate an episode                \n",
        "                action_dist = F.softmax(Net(torch.Tensor(state)).detach(), dim=0).numpy()                \n",
        "                action = np.random.choice(env.action_space.n, p=action_dist) # probabilistic action selection\n",
        "                observation, reward, done, _ = env.step(action)\n",
        "                states.append(state)\n",
        "                actions.append(action)\n",
        "                g += reward\n",
        "                state = observation\n",
        "                if done:\n",
        "                    batch_returns.append(g)\n",
        "                    batch_states.append(states)\n",
        "                    batch_actions.append(actions)\n",
        "                    returns.append(g)\n",
        "                    break\n",
        "    idxs = batch_returns >= np.percentile(batch_returns, batch_percentile)\n",
        "    train_states = np.concatenate(np.array(batch_states)[idxs])\n",
        "    train_actions = np.concatenate(np.array(batch_actions)[idxs])\n",
        "    preds = Net(torch.Tensor(train_states))\n",
        "    optimiser.zero_grad()\n",
        "    #print(preds.shape, train_actions.shape)\n",
        "    loss = F.cross_entropy(preds, torch.Tensor(train_actions).long())\n",
        "    loss.backward()\n",
        "    losses.append(loss)\n",
        "    optimiser.step()\n",
        "    avg_returns.append(np.mean(returns[-batch_size:])) # diagnostic\n",
        "    print('epoch', e, 'avg_returns', avg_returns[-1])\n",
        "            \n",
        "\n",
        "pd.Series(returns).plot()"
      ],
      "execution_count": 1,
      "outputs": [
        {
          "output_type": "stream",
          "text": [
            "epoch 0 avg_returns 21.7\n",
            "epoch 1 avg_returns 33.4\n",
            "epoch 2 avg_returns 26.3\n",
            "epoch 3 avg_returns 33.7\n",
            "epoch 4 avg_returns 38.0\n",
            "epoch 5 avg_returns 43.6\n",
            "epoch 6 avg_returns 49.35\n",
            "epoch 7 avg_returns 46.45\n",
            "epoch 8 avg_returns 51.4\n",
            "epoch 9 avg_returns 50.4\n",
            "epoch 10 avg_returns 55.05\n",
            "epoch 11 avg_returns 67.25\n",
            "epoch 12 avg_returns 51.0\n",
            "epoch 13 avg_returns 60.2\n",
            "epoch 14 avg_returns 59.95\n",
            "epoch 15 avg_returns 68.75\n",
            "epoch 16 avg_returns 77.85\n",
            "epoch 17 avg_returns 83.65\n",
            "epoch 18 avg_returns 71.25\n",
            "epoch 19 avg_returns 77.85\n",
            "epoch 20 avg_returns 86.3\n",
            "epoch 21 avg_returns 82.95\n",
            "epoch 22 avg_returns 101.0\n",
            "epoch 23 avg_returns 87.15\n",
            "epoch 24 avg_returns 107.45\n",
            "epoch 25 avg_returns 100.9\n",
            "epoch 26 avg_returns 119.8\n",
            "epoch 27 avg_returns 105.05\n",
            "epoch 28 avg_returns 112.55\n",
            "epoch 29 avg_returns 148.75\n",
            "epoch 30 avg_returns 133.85\n",
            "epoch 31 avg_returns 133.25\n",
            "epoch 32 avg_returns 127.7\n",
            "epoch 33 avg_returns 139.95\n",
            "epoch 34 avg_returns 146.95\n",
            "epoch 35 avg_returns 156.6\n",
            "epoch 36 avg_returns 182.8\n",
            "epoch 37 avg_returns 236.6\n",
            "epoch 38 avg_returns 326.6\n",
            "epoch 39 avg_returns 303.35\n",
            "epoch 40 avg_returns 257.3\n",
            "epoch 41 avg_returns 256.2\n",
            "epoch 42 avg_returns 265.8\n",
            "epoch 43 avg_returns 313.15\n",
            "epoch 44 avg_returns 247.8\n",
            "epoch 45 avg_returns 239.65\n",
            "epoch 46 avg_returns 241.85\n",
            "epoch 47 avg_returns 234.35\n",
            "epoch 48 avg_returns 260.1\n",
            "epoch 49 avg_returns 223.95\n",
            "epoch 50 avg_returns 266.7\n",
            "epoch 51 avg_returns 272.1\n",
            "epoch 52 avg_returns 292.85\n",
            "epoch 53 avg_returns 278.7\n",
            "epoch 54 avg_returns 284.05\n",
            "epoch 55 avg_returns 292.75\n",
            "epoch 56 avg_returns 288.05\n",
            "epoch 57 avg_returns 338.2\n",
            "epoch 58 avg_returns 330.7\n",
            "epoch 59 avg_returns 356.85\n",
            "epoch 60 avg_returns 383.75\n",
            "epoch 61 avg_returns 394.35\n",
            "epoch 62 avg_returns 435.0\n",
            "epoch 63 avg_returns 423.05\n",
            "epoch 64 avg_returns 361.2\n",
            "epoch 65 avg_returns 466.7\n",
            "epoch 66 avg_returns 425.2\n",
            "epoch 67 avg_returns 450.5\n",
            "epoch 68 avg_returns 474.0\n",
            "epoch 69 avg_returns 483.0\n",
            "epoch 70 avg_returns 466.3\n",
            "epoch 71 avg_returns 468.25\n",
            "epoch 72 avg_returns 475.2\n",
            "epoch 73 avg_returns 492.25\n",
            "epoch 74 avg_returns 489.65\n",
            "epoch 75 avg_returns 488.45\n",
            "epoch 76 avg_returns 485.95\n",
            "epoch 77 avg_returns 495.65\n",
            "epoch 78 avg_returns 500.0\n",
            "epoch 79 avg_returns 488.15\n",
            "epoch 80 avg_returns 488.7\n",
            "epoch 81 avg_returns 482.55\n",
            "epoch 82 avg_returns 491.5\n",
            "epoch 83 avg_returns 484.85\n",
            "epoch 84 avg_returns 494.2\n",
            "epoch 85 avg_returns 499.0\n",
            "epoch 86 avg_returns 498.6\n",
            "epoch 87 avg_returns 492.7\n",
            "epoch 88 avg_returns 461.7\n",
            "epoch 89 avg_returns 493.15\n",
            "epoch 90 avg_returns 490.7\n",
            "epoch 91 avg_returns 488.9\n",
            "epoch 92 avg_returns 496.05\n",
            "epoch 93 avg_returns 500.0\n",
            "epoch 94 avg_returns 477.7\n",
            "epoch 95 avg_returns 490.95\n",
            "epoch 96 avg_returns 496.2\n",
            "epoch 97 avg_returns 490.6\n",
            "epoch 98 avg_returns 494.55\n",
            "epoch 99 avg_returns 497.45\n"
          ],
          "name": "stdout"
        },
        {
          "output_type": "execute_result",
          "data": {
            "text/plain": [
              "<matplotlib.axes._subplots.AxesSubplot at 0x7efc5b7d9c50>"
            ]
          },
          "metadata": {
            "tags": []
          },
          "execution_count": 1
        },
        {
          "output_type": "display_data",
          "data": {
            "image/png": "[encoded data removed]",
            "text/plain": [
              "<Figure size 432x288 with 1 Axes>"
            ]
          },
          "metadata": {
            "tags": [],
            "needs_background": "light"
          }
        }
      ]
    },
    {
      "cell_type": "code",
      "metadata": {
        "id": "XWOi2dycP1t-",
        "colab_type": "code",
        "colab": {
          "base_uri": "https://localhost:8080/",
          "height": 282
        },
        "outputId": "6b5db2fb-7253-4338-ca50-9155e4721192"
      },
      "source": [
        "pd.Series(avg_returns).plot()"
      ],
      "execution_count": 2,
      "outputs": [
        {
          "output_type": "execute_result",
          "data": {
            "text/plain": [
              "<matplotlib.axes._subplots.AxesSubplot at 0x7efcb25aebe0>"
            ]
          },
          "metadata": {
            "tags": []
          },
          "execution_count": 2
        },
        {
          "output_type": "display_data",
          "data": {
            "image/png": "[encoded data removed]",
            "text/plain": [
              "<Figure size 432x288 with 1 Axes>"
            ]
          },
          "metadata": {
            "tags": [],
            "needs_background": "light"
          }
        }
      ]
    },
    {
      "cell_type": "code",
      "metadata": {
        "id": "S8z4C28_aAUS",
        "colab_type": "code",
        "colab": {}
      },
      "source": [
        ""
      ],
      "execution_count": 0,
      "outputs": []
    }
  ]
}